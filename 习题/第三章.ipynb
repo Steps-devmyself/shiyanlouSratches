﻿{
 "cells": [
  {
   "cell_type": "code",
   "execution_count": 2,
   "outputs": [],
   "source": [
    "from IPython.core.interactiveshell import InteractiveShell\n",
    "InteractiveShell.ast_node_interactivity='all'\n"
   ],
   "metadata": {
    "collapsed": false,
    "pycharm": {
     "name": "#%%\n",
     "is_executing": false
    }
   }
  },
  {
   "cell_type": "code",
   "execution_count": 3,
   "metadata": {
    "collapsed": true,
    "pycharm": {
     "is_executing": false
    }
   },
   "outputs": [
    {
     "data": {
      "text/plain": "[(12.999, 25.0], (12.999, 25.0], (12.999, 25.0], (12.999, 25.0], (12.999, 25.0], ..., (35.0, 70.0], (35.0, 70.0], (35.0, 70.0], (35.0, 70.0], (35.0, 70.0]]\nLength: 25\nCategories (3, interval[float64]): [(12.999, 25.0] < (25.0, 35.0] < (35.0, 70.0]]"
     },
     "metadata": {},
     "output_type": "execute_result",
     "execution_count": 3
    }
   ],
   "source": [
    "import numpy as np\n",
    "import pandas as pd\n",
    "import matplotlib.pyplot as plt\n",
    "import seaborn\n",
    "#pandas的handbook待研究\n",
    "#等深分箱，用箱均值光滑数据"
   ]
  },
  {
   "cell_type": "code",
   "execution_count": 32,
   "outputs": [],
   "source": [
    "data_age=[ 13, 15, 16, 16, 19,20,\n",
    "20, 21, 22, 22, 25, 25, 25, 25, 30, 33, 33, 35, 35, 35, 35, 36, 40, 45, 46, 52, 70]\n",
    "lens=len(data_age)\n",
    "cut=[]\n",
    "for i in range(0,24,3):\n",
    "    cut.append(data_age[i:i+3])\n",
    "smooth=[]\n",
    "for item in cut:\n",
    "    smooth.append(np.mean(item))"
   ],
   "metadata": {
    "collapsed": false,
    "pycharm": {
     "name": "#%%\n",
     "is_executing": false
    }
   }
  },
  {
   "cell_type": "code",
   "execution_count": 17,
   "outputs": [],
   "source": [
    "meanvalue=[]"
   ],
   "metadata": {
    "collapsed": false,
    "pycharm": {
     "name": "#%%\n",
     "is_executing": false
    }
   }
  },
  {
   "cell_type": "code",
   "execution_count": 78,
   "outputs": [
    {
     "name": "stderr",
     "text": [
      "F:\\softwaresetup\\Anaconda3\\lib\\site-packages\\scipy\\stats\\stats.py:1713: FutureWarning: Using a non-tuple sequence for multidimensional indexing is deprecated; use `arr[tuple(seq)]` instead of `arr[seq]`. In the future this will be interpreted as an array index, `arr[np.array(seq)]`, which will result either in an error or a different result.\n  return np.add.reduce(sorted[indexer] * weights, axis=axis) / sumval\n"
     ],
     "output_type": "stream"
    },
    {
     "data": {
      "text/plain": "<matplotlib.axes._subplots.AxesSubplot at 0x236a9843f60>"
     },
     "metadata": {},
     "output_type": "execute_result",
     "execution_count": 78
    },
    {
     "data": {
      "text/plain": "<Figure size 432x288 with 1 Axes>",
      "image/png": "[encoded data removed]"
     },
     "metadata": {
      "needs_background": "light"
     },
     "output_type": "display_data"
    }
   ],
   "source": [
    "seaborn.distplot(data_age,bins=10)"
   ],
   "metadata": {
    "collapsed": false,
    "pycharm": {
     "name": "#%%\n",
     "is_executing": false
    }
   }
  },
  {
   "cell_type": "code",
   "execution_count": 33,
   "outputs": [],
   "source": [
    "#数据规范化\n",
    "ls=[200, 300, 400, 600, 1000]"
   ],
   "metadata": {
    "collapsed": false,
    "pycharm": {
     "name": "#%%\n",
     "is_executing": false
    }
   }
  },
  {
   "cell_type": "code",
   "execution_count": 71,
   "outputs": [
    {
     "data": {
      "text/plain": "[0.0, 0.125, 0.25, 0.5, 1.0]"
     },
     "metadata": {},
     "output_type": "execute_result",
     "execution_count": 71
    },
    {
     "traceback": [
      "\u001b[1;31m---------------------------------------------------------------------------\u001b[0m",
      "\u001b[1;31mTypeError\u001b[0m                                 Traceback (most recent call last)",
      "\u001b[1;32m<ipython-input-71-3b152c9b7931>\u001b[0m in \u001b[0;36m<module>\u001b[1;34m\u001b[0m\n\u001b[0;32m     13\u001b[0m         \u001b[0mnewls\u001b[0m\u001b[1;33m.\u001b[0m\u001b[0mappend\u001b[0m\u001b[1;33m(\u001b[0m\u001b[1;33m(\u001b[0m\u001b[0mi\u001b[0m\u001b[1;33m-\u001b[0m\u001b[0mmeanls\u001b[0m\u001b[1;33m)\u001b[0m\u001b[1;33m/\u001b[0m\u001b[0mstdls\u001b[0m\u001b[1;33m)\u001b[0m\u001b[1;33m\u001b[0m\u001b[1;33m\u001b[0m\u001b[0m\n\u001b[0;32m     14\u001b[0m     \u001b[1;32mreturn\u001b[0m \u001b[0mnewls\u001b[0m\u001b[1;33m\u001b[0m\u001b[1;33m\u001b[0m\u001b[0m\n\u001b[1;32m---> 15\u001b[1;33m \u001b[0mzscore\u001b[0m\u001b[1;33m(\u001b[0m\u001b[0mls\u001b[0m\u001b[1;33m)\u001b[0m\u001b[1;33m\u001b[0m\u001b[1;33m\u001b[0m\u001b[0m\n\u001b[0m\u001b[0;32m     16\u001b[0m \u001b[1;32mdef\u001b[0m \u001b[0mzscoreabs\u001b[0m\u001b[1;33m(\u001b[0m\u001b[0mls\u001b[0m\u001b[1;33m)\u001b[0m\u001b[1;33m:\u001b[0m\u001b[1;33m\u001b[0m\u001b[1;33m\u001b[0m\u001b[0m\n\u001b[0;32m     17\u001b[0m     \u001b[0mnewls\u001b[0m\u001b[1;33m=\u001b[0m\u001b[1;33m[\u001b[0m\u001b[1;33m]\u001b[0m\u001b[1;33m\u001b[0m\u001b[1;33m\u001b[0m\u001b[0m\n",
      "\u001b[1;31mTypeError\u001b[0m: zscore() missing 1 required positional argument: 'stdls'"
     ],
     "ename": "TypeError",
     "evalue": "zscore() missing 1 required positional argument: 'stdls'",
     "output_type": "error"
    }
   ],
   "source": [
    "normmin,normmax=0,1\n",
    "def minmax(normin,normax,ls):\n",
    "    newls=[]\n",
    "    ran=max(ls)-min(ls)\n",
    "    for i in ls:\n",
    "        newls.append((i-min(ls))/ran*(normax-normin)+normin)\n",
    "    return newls\n",
    "minmax(0,1,ls)\n",
    "def zscore(ls,stdls):\n",
    "    newls=[]\n",
    "    meanls=np.mean(ls)\n",
    "    for i in ls:\n",
    "        newls.append((i-meanls)/stdls)\n",
    "    return newls\n",
    "zscore(ls)\n",
    "def zscoreabs(ls):\n",
    "    newls=[]\n",
    "    meanls=np.mean(ls)\n",
    "    absstd=np.mean([abs(x-meanls) for x in ls])\n",
    "    for i in ls:\n",
    "        newls.append((i-meanls)/absstd)\n",
    "    return newls\n",
    "zscoreabs(ls)\n",
    "def decimal(ls):\n",
    "    maxs=max(np.abs(ls))\n",
    "    stone=str(maxs)\n",
    "    digit=len(stone)\n",
    "    s=np.power(10,digit)\n",
    "    newls=[]\n",
    "    if maxs/s<1:\n",
    "        s/=10\n",
    "    for i in ls:\n",
    "        newls.append(i/s)\n",
    "    return newls\n",
    "decimal(ls)"
   ],
   "metadata": {
    "collapsed": false,
    "pycharm": {
     "name": "#%%\n",
     "is_executing": false
    }
   }
  },
  {
   "cell_type": "code",
   "execution_count": 50,
   "outputs": [
    {
     "name": "stdout",
     "text": [
      "[13, 15, 16, 16, 19, 20, 20, 21, 22, 22, 25, 25, 25, 25, 30, 33, 33, 35, 35, 35, 35, 36, 40, 45, 46, 52, 70]\n"
     ],
     "output_type": "stream"
    },
    {
     "data": {
      "text/plain": "[0.0,\n 0.03508771929824561,\n 0.05263157894736842,\n 0.05263157894736842,\n 0.10526315789473684,\n 0.12280701754385964,\n 0.12280701754385964,\n 0.14035087719298245,\n 0.15789473684210525,\n 0.15789473684210525,\n 0.21052631578947367,\n 0.21052631578947367,\n 0.21052631578947367,\n 0.21052631578947367,\n 0.2982456140350877,\n 0.3508771929824561,\n 0.3508771929824561,\n 0.38596491228070173,\n 0.38596491228070173,\n 0.38596491228070173,\n 0.38596491228070173,\n 0.40350877192982454,\n 0.47368421052631576,\n 0.5614035087719298,\n 0.5789473684210527,\n 0.6842105263157895,\n 1.0]"
     },
     "metadata": {},
     "output_type": "execute_result",
     "execution_count": 50
    },
    {
     "data": {
      "text/plain": "[-23.183925811437405,\n -15.45595054095827,\n -7.727975270479135,\n 7.727975270479135,\n 38.639876352395675]"
     },
     "metadata": {},
     "output_type": "execute_result",
     "execution_count": 50
    },
    {
     "data": {
      "text/plain": "[1.3,\n 1.5,\n 1.6,\n 1.6,\n 1.9,\n 2.0,\n 2.0,\n 2.1,\n 2.2,\n 2.2,\n 2.5,\n 2.5,\n 2.5,\n 2.5,\n 3.0,\n 3.3,\n 3.3,\n 3.5,\n 3.5,\n 3.5,\n 3.5,\n 3.6,\n 4.0,\n 4.5,\n 4.6,\n 5.2,\n 7.0]"
     },
     "metadata": {},
     "output_type": "execute_result",
     "execution_count": 50
    }
   ],
   "source": [
    "print(data_age)\n",
    "minmax(0,1,data_age)\n",
    "decimal(data_age)"
   ],
   "metadata": {
    "collapsed": false,
    "pycharm": {
     "name": "#%%\n",
     "is_executing": false
    }
   }
  },
  {
   "cell_type": "code",
   "execution_count": 55,
   "outputs": [
    {
     "data": {
      "text/plain": "[-1.3108935829183124,\n -1.1563340775087296,\n -1.0790543248039384,\n -1.0790543248039384,\n -0.8472150666895644,\n -0.769935313984773,\n -0.769935313984773,\n -0.6926555612799816,\n -0.6153758085751903,\n -0.6153758085751903,\n -0.38353655046081625,\n -0.38353655046081625,\n -0.38353655046081625,\n -0.38353655046081625,\n 0.0028622130631405017,\n 0.23470147117751455,\n 0.23470147117751455,\n 0.38926097658709724,\n 0.38926097658709724,\n 0.38926097658709724,\n 0.38926097658709724,\n 0.4665407292918886,\n 0.775659740111054,\n 1.1620585036350106,\n 1.239338256339802,\n 1.70301677256855,\n 3.0940523212547943]"
     },
     "metadata": {},
     "output_type": "execute_result",
     "execution_count": 55
    },
    {
     "name": "stdout",
     "text": [
      "          0          1          2          3          4          5   \\\n0   0.000000   0.035088   0.052632   0.052632   0.105263   0.122807   \n1   1.300000   1.500000   1.600000   1.600000   1.900000   2.000000   \n2  -1.310894  -1.156334  -1.079054  -1.079054  -0.847215  -0.769935   \n3  13.000000  15.000000  16.000000  16.000000  19.000000  20.000000   \n\n          6          7          8          9     ...             17  \\\n0   0.122807   0.140351   0.157895   0.157895    ...       0.385965   \n1   2.000000   2.100000   2.200000   2.200000    ...       3.500000   \n2  -0.769935  -0.692656  -0.615376  -0.615376    ...       0.389261   \n3  20.000000  21.000000  22.000000  22.000000    ...      35.000000   \n\n          18         19         20         21         22         23  \\\n0   0.385965   0.385965   0.385965   0.403509   0.473684   0.561404   \n1   3.500000   3.500000   3.500000   3.600000   4.000000   4.500000   \n2   0.389261   0.389261   0.389261   0.466541   0.775660   1.162059   \n3  35.000000  35.000000  35.000000  36.000000  40.000000  45.000000   \n\n          24         25         26  \n0   0.578947   0.684211   1.000000  \n1   4.600000   5.200000   7.000000  \n2   1.239338   1.703017   3.094052  \n3  46.000000  52.000000  70.000000  \n\n[4 rows x 27 columns]\n"
     ],
     "output_type": "stream"
    }
   ],
   "source": [
    "zscore(data_age,12.94)\n",
    "df=pd.DataFrame(data=[minmax(0,1,data_age),decimal(data_age),zscore(data_age,12.94),data_age])\n",
    "print(df)"
   ],
   "metadata": {
    "collapsed": false,
    "pycharm": {
     "name": "#%%\n",
     "is_executing": false
    }
   }
  },
  {
   "cell_type": "code",
   "execution_count": 65,
   "outputs": [],
   "source": [
    "age1=[23,23,27,27,39,41,47,49,50]\n",
    "fat1=[9.5 ,26.5 ,7.8 ,17.8 ,31.4 ,25.9 ,27.4 ,27.2 ,31.2]\n",
    "age2=[52 ,54 ,54 ,56 ,57, 58, 58 ,60 ,61]\n",
    "fat2=[ 34.6, 42.5, 28.8 ,33.4, 30.2, 34.1, 32.9, 41.2 ,35.7]\n",
    "#print(age1,fat1,age2,fat2)"
   ],
   "metadata": {
    "collapsed": false,
    "pycharm": {
     "name": "#%%\n",
     "is_executing": false
    }
   }
  },
  {
   "cell_type": "code",
   "execution_count": 77,
   "outputs": [
    {
     "name": "stdout",
     "text": [
      "1.0 7.401486830834377e-17\n"
     ],
     "output_type": "stream"
    },
    {
     "data": {
      "text/plain": "array([[1.        , 0.71029574],\n       [0.71029574, 1.        ]])"
     },
     "metadata": {},
     "output_type": "execute_result",
     "execution_count": 77
    }
   ],
   "source": [
    "stdlsage=np.std(age1)\n",
    "zage1=zscore(age1,stdlsage)\n",
    "stdlsfat=np.std(fat1)\n",
    "zfat1=zscore(fat1,stdlsfat)\n",
    "print(np.std(zage1),np.mean(zage1))\n",
    "np.corrcoef(zage1,zfat1)"
   ],
   "metadata": {
    "collapsed": false,
    "pycharm": {
     "name": "#%%\n",
     "is_executing": false
    }
   }
  },
  {
   "cell_type": "code",
   "execution_count": 81,
   "outputs": [
    {
     "data": {
      "text/plain": "(array([[ 14.83333333],\n        [209.5       ],\n        [ 67.25      ]]),\n array([0, 0, 0, 0, 0, 0, 2, 2, 2, 2, 1, 1]),\n 1688.0833333333335)"
     },
     "metadata": {},
     "output_type": "execute_result",
     "execution_count": 81
    }
   ],
   "source": [
    "sales=np.array([5, 10, 11, 13, 15, 35, 50, 55, 72, 92, 204, 215.]).reshape(-1,1)\n",
    "from sklearn import cluster\n",
    "cluster.k_means(sales,3)"
   ],
   "metadata": {
    "collapsed": false,
    "pycharm": {
     "name": "#%%\n",
     "is_executing": false
    }
   }
  }
 ],
 "metadata": {
  "kernelspec": {
   "display_name": "Python 3",
   "language": "python",
   "name": "python3"
  },
  "language_info": {
   "codemirror_mode": {
    "name": "ipython",
    "version": 2
   },
   "file_extension": ".py",
   "mimetype": "text/x-python",
   "name": "python",
   "nbconvert_exporter": "python",
   "pygments_lexer": "ipython2",
   "version": "2.7.6"
  },
  "pycharm": {
   "stem_cell": {
    "cell_type": "raw",
    "source": [],
    "metadata": {
     "collapsed": false
    }
   }
  }
 },
 "nbformat": 4,
 "nbformat_minor": 0
}