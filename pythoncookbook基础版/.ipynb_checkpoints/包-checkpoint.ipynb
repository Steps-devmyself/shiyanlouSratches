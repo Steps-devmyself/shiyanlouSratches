{
 "cells": [
  {
   "cell_type": "code",
   "execution_count": 1,
   "metadata": {},
   "outputs": [],
   "source": [
    "# 一个模块集\n",
    "# 最大特点就是命名空间整洁\n",
    "# 而且结构特别清晰"
   ]
  },
  {
   "cell_type": "code",
   "execution_count": 2,
   "metadata": {},
   "outputs": [],
   "source": [
    "# 为了使python将一个目录看作一个包\n",
    "# 这个目录必须包含一个__init__.py文件"
   ]
  },
  {
   "cell_type": "markdown",
   "metadata": {},
   "source": [
    "使用包的注意：\n",
    "                用from package import item 方式导入时\n",
    "                这个item可能是子包，可能是模块\n",
    "                可能是函数，类，变量\n",
    "                优先级:模块最低，也就是最后考虑是模块\n",
    "                \n",
    "                用 import item.subitem,subsubitem 时\n",
    "                这些子项必须是包，最后的子项可以是包或模块\n",
    "                "
   ]
  },
  {
   "cell_type": "markdown",
   "metadata": {},
   "source": [
    "包的引入：\n",
    "        1.from modules import *\n",
    "            因为可能有特殊设计，这种方式可能不会引入所有的子模块，只导出符合某种规范的子模块\n",
    "            在 __inti__.py中定义一个__all__的列表，按照列表中的子模块导入\n",
    "       2. from package import specific_submodule\n",
    "             只有引入的模块不存在同名的情况，这种方式是推荐的\n",
    "      3. 你可以用这样的形式 from module import name 来写显式的相对位置导入。那   些显式相对导入用点号标明关联导入当前和上级包"
   ]
  },
  {
   "cell_type": "code",
   "execution_count": null,
   "metadata": {},
   "outputs": [],
   "source": []
  }
 ],
 "metadata": {
  "kernelspec": {
   "display_name": "Python 3",
   "language": "python",
   "name": "python3"
  },
  "language_info": {
   "codemirror_mode": {
    "name": "ipython",
    "version": 3
   },
   "file_extension": ".py",
   "mimetype": "text/x-python",
   "name": "python",
   "nbconvert_exporter": "python",
   "pygments_lexer": "ipython3",
   "version": "3.7.1"
  }
 },
 "nbformat": 4,
 "nbformat_minor": 2
}
