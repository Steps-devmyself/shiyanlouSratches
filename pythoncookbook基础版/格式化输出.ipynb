{
 "cells": [
  {
   "cell_type": "markdown",
   "metadata": {},
   "source": [
    "如何将任意值转换为字符串：\n",
    "                        1.传入repr()函数，供解释器读取\n",
    "                        2.传入str()函数，适合人阅读"
   ]
  },
  {
   "cell_type": "markdown",
   "metadata": {},
   "source": [
    "字符串格式化输出：\n",
    "                1.自己用字符串的分割和连接格式化输出\n",
    "                2.使用字符串的str.format()方法\n",
    "                3.使用template方法\n",
    "                4.%操作符\n",
    "str.format():https://docs.python.org/3/library/string.html#formatstrings\n",
    "str.template:https://docs.python.org/3/library/string.html#string.Template\n",
    "%操作符：https://docs.python.org/3/library/stdtypes.html#old-string-formatting\n"
   ]
  },
  {
   "cell_type": "code",
   "execution_count": 7,
   "metadata": {},
   "outputs": [
    {
     "data": {
      "text/plain": [
       "\"'how are you'\""
      ]
     },
     "execution_count": 7,
     "metadata": {},
     "output_type": "execute_result"
    }
   ],
   "source": [
    "repr('how are you')"
   ]
  },
  {
   "cell_type": "code",
   "execution_count": 6,
   "metadata": {},
   "outputs": [
    {
     "name": "stdout",
     "output_type": "stream",
     "text": [
      "the a is 'A'\n"
     ]
    }
   ],
   "source": [
    "print('the a is {!a}'.format('A'))"
   ]
  },
  {
   "cell_type": "code",
   "execution_count": 8,
   "metadata": {},
   "outputs": [],
   "source": [
    "hello='hello,world\\n'"
   ]
  },
  {
   "cell_type": "code",
   "execution_count": 10,
   "metadata": {},
   "outputs": [],
   "source": [
    "hellos=repr(hello)"
   ]
  },
  {
   "cell_type": "code",
   "execution_count": 13,
   "metadata": {},
   "outputs": [
    {
     "data": {
      "text/plain": [
       "\"'hello,world\\\\n'\""
      ]
     },
     "execution_count": 13,
     "metadata": {},
     "output_type": "execute_result"
    }
   ],
   "source": [
    "hellos"
   ]
  },
  {
   "cell_type": "code",
   "execution_count": 12,
   "metadata": {},
   "outputs": [
    {
     "name": "stdout",
     "output_type": "stream",
     "text": [
      "'hello,world\\n'\n"
     ]
    }
   ],
   "source": [
    "print(hellos)"
   ]
  },
  {
   "cell_type": "markdown",
   "metadata": {},
   "source": [
    "print是去引号，repr是加引号"
   ]
  },
  {
   "cell_type": "code",
   "execution_count": 14,
   "metadata": {},
   "outputs": [],
   "source": [
    "# format的用法：位置参数，关键字参数,可以任意组合，但位置参数必须在关键字参数之前"
   ]
  },
  {
   "cell_type": "code",
   "execution_count": 15,
   "metadata": {},
   "outputs": [
    {
     "name": "stdout",
     "output_type": "stream",
     "text": [
      "jack is very hansome\n"
     ]
    }
   ],
   "source": [
    "print('{} is very {}'.format('jack','hansome'))"
   ]
  },
  {
   "cell_type": "code",
   "execution_count": 16,
   "metadata": {},
   "outputs": [
    {
     "name": "stdout",
     "output_type": "stream",
     "text": [
      "hansome is very jack\n"
     ]
    }
   ],
   "source": [
    "print('{1} is very {0}'.format('jack','hansome'))"
   ]
  },
  {
   "cell_type": "code",
   "execution_count": 17,
   "metadata": {},
   "outputs": [
    {
     "name": "stdout",
     "output_type": "stream",
     "text": [
      "jack is very hansome\n"
     ]
    }
   ],
   "source": [
    "print('{name} is very {looking}'.format(name='jack',looking='hansome'))"
   ]
  },
  {
   "cell_type": "code",
   "execution_count": 18,
   "metadata": {},
   "outputs": [
    {
     "ename": "SyntaxError",
     "evalue": "positional argument follows keyword argument (<ipython-input-18-4b1d5fcc7e57>, line 1)",
     "output_type": "error",
     "traceback": [
      "\u001b[1;36m  File \u001b[1;32m\"<ipython-input-18-4b1d5fcc7e57>\"\u001b[1;36m, line \u001b[1;32m1\u001b[0m\n\u001b[1;33m    print('The story of {0}, {1}, and {other}.'.format('Bill',other='Georg','wow'))\u001b[0m\n\u001b[1;37m                                                                           ^\u001b[0m\n\u001b[1;31mSyntaxError\u001b[0m\u001b[1;31m:\u001b[0m positional argument follows keyword argument\n"
     ]
    }
   ],
   "source": [
    "print('The story of {0}, {1}, and {other}.'.format('Bill',other='Georg','wow'))"
   ]
  },
  {
   "cell_type": "code",
   "execution_count": 19,
   "metadata": {},
   "outputs": [],
   "source": [
    "#format的关键字参数和字典一起使用"
   ]
  },
  {
   "cell_type": "code",
   "execution_count": 20,
   "metadata": {},
   "outputs": [],
   "source": [
    "table={'tom':167,'jack':154,'mock':165}"
   ]
  },
  {
   "cell_type": "code",
   "execution_count": 24,
   "metadata": {},
   "outputs": [
    {
     "name": "stdout",
     "output_type": "stream",
     "text": [
      "tom:167\n"
     ]
    }
   ],
   "source": [
    "print('tom:{[tom]}'.format(table))"
   ]
  },
  {
   "cell_type": "code",
   "execution_count": 25,
   "metadata": {},
   "outputs": [
    {
     "name": "stdout",
     "output_type": "stream",
     "text": [
      "tom:167,jack:154,mock:165\n"
     ]
    }
   ],
   "source": [
    "print('tom:{tom},jack:{jack},mock:{mock}'.format(**table))"
   ]
  },
  {
   "cell_type": "code",
   "execution_count": 26,
   "metadata": {},
   "outputs": [
    {
     "data": {
      "text/plain": [
       "{'__name__': '__main__',\n",
       " '__doc__': 'Automatically created module for IPython interactive environment',\n",
       " '__package__': None,\n",
       " '__loader__': None,\n",
       " '__spec__': None,\n",
       " '__builtin__': <module 'builtins' (built-in)>,\n",
       " '__builtins__': <module 'builtins' (built-in)>,\n",
       " '_ih': ['',\n",
       "  \"pirnt('the a is {!a}'.format(4))\",\n",
       "  \"prinnt('the a is {!a}'.format(4))\",\n",
       "  \"print('the a is {!a}'.format(4))\",\n",
       "  \"print('the a is {!a}'.format('A'))\",\n",
       "  \"print('the a is {'!a'}'.format('A'))\",\n",
       "  \"print('the a is {!a}'.format('A'))\",\n",
       "  \"repr('how are you')\",\n",
       "  \"hello='hello,world\\\\n'\",\n",
       "  'print(hello)',\n",
       "  'hellos=repr(hello)',\n",
       "  'print(hello)',\n",
       "  'print(hellos)',\n",
       "  'hellos',\n",
       "  '# format的用法：位置参数，关键字参数',\n",
       "  \"print('{} is very {}'.format('jack','hansome'))\",\n",
       "  \"print('{1} is very {0}'.format('jack','hansome'))\",\n",
       "  \"print('{name} is very {looking}'.format(name='jack',looking='hansome'))\",\n",
       "  \"print('The story of {0}, {1}, and {other}.'.format('Bill',other='Georg','wow'))\",\n",
       "  '#format的关键字参数和字典一起使用',\n",
       "  \"table={'tom':167,'jack':154,'mock':165}\",\n",
       "  \"print('tom:{['tom']}'.format(table))\",\n",
       "  \"print('tom:{[tom]}'.format(table))\",\n",
       "  \"print('tom:{[tom]}'.format(**table))\",\n",
       "  \"print('tom:{[tom]}'.format(table))\",\n",
       "  \"print('tom:{tom},jack:{jack},mock:{mock}'.format(**table))\",\n",
       "  'vars()'],\n",
       " '_oh': {7: \"'how are you'\", 13: \"'hello,world\\\\n'\"},\n",
       " '_dh': ['D:\\\\shiyanlouSratches\\\\pythoncookbook基础版'],\n",
       " 'In': ['',\n",
       "  \"pirnt('the a is {!a}'.format(4))\",\n",
       "  \"prinnt('the a is {!a}'.format(4))\",\n",
       "  \"print('the a is {!a}'.format(4))\",\n",
       "  \"print('the a is {!a}'.format('A'))\",\n",
       "  \"print('the a is {'!a'}'.format('A'))\",\n",
       "  \"print('the a is {!a}'.format('A'))\",\n",
       "  \"repr('how are you')\",\n",
       "  \"hello='hello,world\\\\n'\",\n",
       "  'print(hello)',\n",
       "  'hellos=repr(hello)',\n",
       "  'print(hello)',\n",
       "  'print(hellos)',\n",
       "  'hellos',\n",
       "  '# format的用法：位置参数，关键字参数',\n",
       "  \"print('{} is very {}'.format('jack','hansome'))\",\n",
       "  \"print('{1} is very {0}'.format('jack','hansome'))\",\n",
       "  \"print('{name} is very {looking}'.format(name='jack',looking='hansome'))\",\n",
       "  \"print('The story of {0}, {1}, and {other}.'.format('Bill',other='Georg','wow'))\",\n",
       "  '#format的关键字参数和字典一起使用',\n",
       "  \"table={'tom':167,'jack':154,'mock':165}\",\n",
       "  \"print('tom:{['tom']}'.format(table))\",\n",
       "  \"print('tom:{[tom]}'.format(table))\",\n",
       "  \"print('tom:{[tom]}'.format(**table))\",\n",
       "  \"print('tom:{[tom]}'.format(table))\",\n",
       "  \"print('tom:{tom},jack:{jack},mock:{mock}'.format(**table))\",\n",
       "  'vars()'],\n",
       " 'Out': {7: \"'how are you'\", 13: \"'hello,world\\\\n'\"},\n",
       " 'get_ipython': <bound method InteractiveShell.get_ipython of <ipykernel.zmqshell.ZMQInteractiveShell object at 0x00000224CA08A198>>,\n",
       " 'exit': <IPython.core.autocall.ZMQExitAutocall at 0x224ca0dcb38>,\n",
       " 'quit': <IPython.core.autocall.ZMQExitAutocall at 0x224ca0dcb38>,\n",
       " '_': \"'hello,world\\\\n'\",\n",
       " '__': \"'how are you'\",\n",
       " '___': '',\n",
       " '_i': \"print('tom:{tom},jack:{jack},mock:{mock}'.format(**table))\",\n",
       " '_ii': \"print('tom:{[tom]}'.format(table))\",\n",
       " '_iii': \"print('tom:{[tom]}'.format(**table))\",\n",
       " '_i1': \"pirnt('the a is {!a}'.format(4))\",\n",
       " '_i2': \"prinnt('the a is {!a}'.format(4))\",\n",
       " '_i3': \"print('the a is {!a}'.format(4))\",\n",
       " '_i4': \"print('the a is {!a}'.format('A'))\",\n",
       " '_i5': \"print('the a is {'!a'}'.format('A'))\",\n",
       " '_i6': \"print('the a is {!a}'.format('A'))\",\n",
       " '_i7': \"repr('how are you')\",\n",
       " '_7': \"'how are you'\",\n",
       " '_i8': \"hello='hello,world\\\\n'\",\n",
       " 'hello': 'hello,world\\n',\n",
       " '_i9': 'print(hello)',\n",
       " '_i10': 'hellos=repr(hello)',\n",
       " 'hellos': \"'hello,world\\\\n'\",\n",
       " '_i11': 'print(hello)',\n",
       " '_i12': 'print(hellos)',\n",
       " '_i13': 'hellos',\n",
       " '_13': \"'hello,world\\\\n'\",\n",
       " '_i14': '# format的用法：位置参数，关键字参数',\n",
       " '_i15': \"print('{} is very {}'.format('jack','hansome'))\",\n",
       " '_i16': \"print('{1} is very {0}'.format('jack','hansome'))\",\n",
       " '_i17': \"print('{name} is very {looking}'.format(name='jack',looking='hansome'))\",\n",
       " '_i18': \"print('The story of {0}, {1}, and {other}.'.format('Bill',other='Georg','wow'))\",\n",
       " '_i19': '#format的关键字参数和字典一起使用',\n",
       " '_i20': \"table={'tom':167,'jack':154,'mock':165}\",\n",
       " 'table': {'tom': 167, 'jack': 154, 'mock': 165},\n",
       " '_i21': \"print('tom:{['tom']}'.format(table))\",\n",
       " '_i22': \"print('tom:{[tom]}'.format(table))\",\n",
       " '_i23': \"print('tom:{[tom]}'.format(**table))\",\n",
       " '_i24': \"print('tom:{[tom]}'.format(table))\",\n",
       " '_i25': \"print('tom:{tom},jack:{jack},mock:{mock}'.format(**table))\",\n",
       " '_i26': 'vars()'}"
      ]
     },
     "execution_count": 26,
     "metadata": {},
     "output_type": "execute_result"
    }
   ],
   "source": []
  },
  {
   "cell_type": "code",
   "execution_count": null,
   "metadata": {},
   "outputs": [],
   "source": []
  }
 ],
 "metadata": {
  "kernelspec": {
   "display_name": "Python 3",
   "language": "python",
   "name": "python3"
  },
  "language_info": {
   "codemirror_mode": {
    "name": "ipython",
    "version": 3
   },
   "file_extension": ".py",
   "mimetype": "text/x-python",
   "name": "python",
   "nbconvert_exporter": "python",
   "pygments_lexer": "ipython3",
   "version": "3.7.1"
  }
 },
 "nbformat": 4,
 "nbformat_minor": 2
}
