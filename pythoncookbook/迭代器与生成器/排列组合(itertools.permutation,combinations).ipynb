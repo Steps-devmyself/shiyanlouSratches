﻿{
 "cells": [
  {
   "cell_type": "code",
   "execution_count": 5,
   "outputs": [],
   "source": [
    "from IPython.core.interactiveshell import InteractiveShell\n",
    "InteractiveShell.ast_node_interactivity='all'"
   ],
   "metadata": {
    "collapsed": false,
    "pycharm": {
     "name": "#%%\n",
     "is_executing": false
    }
   }
  },
  {
   "cell_type": "code",
   "execution_count": 7,
   "metadata": {
    "collapsed": true,
    "pycharm": {
     "is_executing": false
    }
   },
   "outputs": [
    {
     "data": {
      "text/plain": "[('x', 'w', 'z'),\n ('x', 'z', 'w'),\n ('w', 'x', 'z'),\n ('w', 'z', 'x'),\n ('z', 'x', 'w'),\n ('z', 'w', 'x')]"
     },
     "metadata": {},
     "output_type": "execute_result",
     "execution_count": 7
    },
    {
     "data": {
      "text/plain": "[('x', 'w', 'z')]"
     },
     "metadata": {},
     "output_type": "execute_result",
     "execution_count": 7
    },
    {
     "data": {
      "text/plain": "[('x', 'x', 'x'),\n ('x', 'x', 'w'),\n ('x', 'x', 'z'),\n ('x', 'w', 'w'),\n ('x', 'w', 'z'),\n ('x', 'z', 'z'),\n ('w', 'w', 'w'),\n ('w', 'w', 'z'),\n ('w', 'z', 'z'),\n ('z', 'z', 'z')]"
     },
     "metadata": {},
     "output_type": "execute_result",
     "execution_count": 7
    }
   ],
   "source": [
    "import itertools\n",
    "items=['x','w','z']\n",
    "#顺序重要\n",
    "ip=itertools.permutations(items)\n",
    "list(ip)\n",
    "#顺序不重要\n",
    "ic=itertools.combinations(items,3)\n",
    "list(ic)\n",
    "#元素重复使用\n",
    "id=itertools.combinations_with_replacement(items,3)\n",
    "list(id)"
   ]
  }
 ],
 "metadata": {
  "kernelspec": {
   "display_name": "Python 3",
   "language": "python",
   "name": "python3"
  },
  "language_info": {
   "codemirror_mode": {
    "name": "ipython",
    "version": 2
   },
   "file_extension": ".py",
   "mimetype": "text/x-python",
   "name": "python",
   "nbconvert_exporter": "python",
   "pygments_lexer": "ipython2",
   "version": "2.7.6"
  },
  "pycharm": {
   "stem_cell": {
    "cell_type": "raw",
    "source": [],
    "metadata": {
     "collapsed": false
    }
   }
  }
 },
 "nbformat": 4,
 "nbformat_minor": 0
}