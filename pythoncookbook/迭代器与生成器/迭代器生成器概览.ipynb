﻿{
 "cells": [
  {
   "cell_type": "markdown",
   "metadata": {
    "collapsed": true,
    "pycharm": {
     "name": "#%% md\n"
    }
   },
   "source": [
    "## 迭代器协议\n",
    "Python的迭代器协议需要 __iter__() 方法返回一个实现了 __next__() 方法的迭代器对象\n",
    "## 迭代器(iterator)\n",
    "- Iterator对象表示的是一个数据流(文件，字节流），不知道序列的长度\n",
    "- 可用next()调用\n",
    "- 通过iter(可迭代对象)获得\n",
    "- 构造一个迭代器很麻烦，要维护大量状态信息，进一步抽象为生成器\n",
    "## 可迭代对象(iterable)\n",
    "- 集合数据类型(list,tuple,dict,set,str)\n",
    "- 迭代器\n",
    "## 生成器(generator)\n",
    "- 惰性计算，靠next()返回下一个值\n",
    "- 两种方式\n",
    "    - 列表生成式的[]换为()\n",
    "    - 函数里面加入yield关键字,该函数只能用于迭代操作，因为只对next()响应 \n",
    "- 内存消耗少\n",
    "    \n",
    "\n",
    "\n",
    "\n",
    "\n"
   ]
  }
 ],
 "metadata": {
  "kernelspec": {
   "display_name": "Python 3",
   "language": "python",
   "name": "python3"
  },
  "language_info": {
   "codemirror_mode": {
    "name": "ipython",
    "version": 2
   },
   "file_extension": ".py",
   "mimetype": "text/x-python",
   "name": "python",
   "nbconvert_exporter": "python",
   "pygments_lexer": "ipython2",
   "version": "2.7.6"
  },
  "pycharm": {
   "stem_cell": {
    "cell_type": "raw",
    "source": [],
    "metadata": {
     "collapsed": false
    }
   }
  }
 },
 "nbformat": 4,
 "nbformat_minor": 0
}