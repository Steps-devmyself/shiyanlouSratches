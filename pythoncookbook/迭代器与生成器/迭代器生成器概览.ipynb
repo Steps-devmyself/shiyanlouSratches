{
 "cells": [
  {
   "cell_type": "markdown",
   "metadata": {
    "collapsed": true,
    "pycharm": {
     "name": "#%% md\n"
    }
   },
   "source": [
    "## 迭代器协议\n",
    "Python的迭代器协议需要 __iter__() 方法返回一个实现了 __next__() 方法的迭代器对象\n",
    "## 迭代器(iterator)\n",
    "- Iterator对象表示的是一个数据流(文件，字节流），不知道序列的长度\n",
    "- 可用next()调用\n",
    "- 通过iter(可迭代对象)获得\n",
    "- 构造一个迭代器很麻烦，要维护大量状态信息，进一步抽象为生成器\n",
    "## 可迭代对象(iterable)\n",
    "- 集合数据类型(list,tuple,dict,set,str)\n",
    "- 迭代器\n",
    "## 生成器(generator)\n",
    "- 惰性计算，靠next()返回下一个值\n",
    "- 两种方式\n",
    "    - 列表生成式的[]换为()\n",
    "    - 函数里面加入yield关键字,该函数只能用于迭代操作，因为只对next()响应 \n",
    "- 内存消耗少\n",
    "- 可以方便的实现迭代器对象，而不用去维护状态信息\n",
    "#所谓鸭子语言，就是有这种属性，有这种方法，就可以操作。python  本来就对数据类型没有很高的要求"
   ]
  },
  {
   "cell_type": "code",
   "execution_count": 6,
   "metadata": {
    "collapsed": false,
    "pycharm": {
     "name": "#%%\n",
     "is_executing": false
    }
   },
   "outputs": [],
   "source": [
    "from IPython.core.interactiveshell import InteractiveShell\n",
    "InteractiveShell.ast_node_interactivity='all'"
   ]
  },
  {
   "cell_type": "code",
   "execution_count": 14,
   "metadata": {
    "collapsed": false,
    "pycharm": {
     "name": "#%%\n",
     "is_executing": false
    }
   },
   "outputs": [
    {
     "name": "stdout",
     "output_type": "stream",
     "text": [
      "A's __iter__method is called\n"
     ]
    },
    {
     "data": {
      "text/plain": [
       "False"
      ]
     },
     "execution_count": 14,
     "metadata": {},
     "output_type": "execute_result"
    },
    {
     "data": {
      "text/plain": [
       "True"
      ]
     },
     "execution_count": 14,
     "metadata": {},
     "output_type": "execute_result"
    },
    {
     "data": {
      "text/plain": [
       "True"
      ]
     },
     "execution_count": 14,
     "metadata": {},
     "output_type": "execute_result"
    },
    {
     "data": {
      "text/plain": [
       "False"
      ]
     },
     "execution_count": 14,
     "metadata": {},
     "output_type": "execute_result"
    },
    {
     "data": {
      "text/plain": [
       "True"
      ]
     },
     "execution_count": 14,
     "metadata": {},
     "output_type": "execute_result"
    }
   ],
   "source": [
    "#而python的迭代协议需要__iter__()方法返回一个实现了__next()__方法的迭代器对象\n",
    "from collections import Iterable,Iterator\n",
    "#只要实现了__iter__方法就是Iterable\n",
    "class A():\n",
    "    def __iter__(self):\n",
    "        print('A\\'s __iter__method is called')\n",
    "        return B()\n",
    "        pass\n",
    "class B():\n",
    "    def __iter__(self):\n",
    "        pass\n",
    "    def __next__(self):\n",
    "        pass\n",
    "a=A()\n",
    "a1=iter(a)\n",
    "isinstance(a,Iterator)\n",
    "isinstance(a1,Iterator)\n",
    "isinstance(A(),Iterable)\n",
    "isinstance(A(),Iterator)\n",
    "isinstance(B(),Iterator)"
   ]
  },
  {
   "cell_type": "markdown",
   "metadata": {
    "collapsed": false,
    "pycharm": {
     "name": "#%% md\n"
    }
   },
   "source": [
    "for循环(迭代)实现方式，也是对于Iterator进行操作\n",
    "\n",
    "而对于以下的数据结构，只是Iterable,即只实现了__iter()__方法\n",
    "\n",
    "for循环对这些数据结构作用时，是调用他们的__iter()__方法，而他们的__iter()__方法会返会一个实现了__next()__方法的迭代器对象"
   ]
  },
  {
   "cell_type": "code",
   "execution_count": null,
   "metadata": {
    "collapsed": false,
    "pycharm": {
     "name": "#%%\n"
    }
   },
   "outputs": [],
   "source": [
    "strs='helloworld'\n",
    "lss=[1,2,3,4]\n",
    "sets={1,2,3,4}\n",
    "tuples=(1,2,3,4)\n",
    "stri=strs.__iter__()\n",
    "stri.__next__()"
   ]
  }
 ],
 "metadata": {
  "kernelspec": {
   "display_name": "Python 3",
   "language": "python",
   "name": "python3"
  },
  "language_info": {
   "codemirror_mode": {
    "name": "ipython",
    "version": 2
   },
   "file_extension": ".py",
   "mimetype": "text/x-python",
   "name": "python",
   "nbconvert_exporter": "python",
   "pygments_lexer": "ipython2",
   "version": "2.7.6"
  },
  "pycharm": {
   "stem_cell": {
    "cell_type": "raw",
    "source": [],
    "metadata": {
     "collapsed": false
    }
   }
  }
 },
 "nbformat": 4,
 "nbformat_minor": 0
}
