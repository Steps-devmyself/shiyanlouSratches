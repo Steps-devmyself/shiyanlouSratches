﻿{
 "cells": [
  {
   "cell_type": "code",
   "execution_count": 22,
   "metadata": {
    "collapsed": true,
    "pycharm": {
     "is_executing": false
    }
   },
   "outputs": [],
   "source": [
    "#以深度优先遍历的树形结构\n",
    "class Node:\n",
    "    def __init__(self,value):\n",
    "        self.value=value\n",
    "        self._child=[]\n",
    "    def __repr__(self):\n",
    "        return \"Node({})\".format(self.value)\n",
    "    def add_child(self,node):\n",
    "        self._child.append(node)\n",
    "    def __iter__(self):\n",
    "        return self._child.__iter__()\n",
    "    def depth_first(self):\n",
    "        yield self\n",
    "        for c in self:\n",
    "            yield from c.depth_first()\n",
    "    #不用考虑stop iteration error"
   ]
  },
  {
   "cell_type": "code",
   "execution_count": 23,
   "outputs": [],
   "source": [
    "root = Node(0)\n",
    "child1 = Node(1)\n",
    "child2 = Node(2)\n",
    "root.add_child(child1)\n",
    "root.add_child(child2)\n",
    "child1.add_child(Node(3))\n",
    "child1.add_child(Node(4))    \n",
    "child2.add_child(Node(5)) "
   ],
   "metadata": {
    "collapsed": false,
    "pycharm": {
     "name": "#%%\n",
     "is_executing": false
    }
   }
  },
  {
   "cell_type": "code",
   "execution_count": 26,
   "outputs": [
    {
     "name": "stdout",
     "text": [
      "Node(0)\nNode(1)\nNode(3)\nNode(4)\nNode(2)\nNode(5)\nxxxxxxxxxxxxxxxxxxxx\nNode(1)\nNode(2)\n"
     ],
     "output_type": "stream"
    }
   ],
   "source": [
    "for c in root.depth_first():\n",
    "    print(c)\n",
    "print('x'*20)\n",
    "for c in root:\n",
    "    print(c)"
   ],
   "metadata": {
    "collapsed": false,
    "pycharm": {
     "name": "#%%\n",
     "is_executing": false
    }
   }
  }
 ],
 "metadata": {
  "kernelspec": {
   "display_name": "Python 3",
   "language": "python",
   "name": "python3"
  },
  "language_info": {
   "codemirror_mode": {
    "name": "ipython",
    "version": 2
   },
   "file_extension": ".py",
   "mimetype": "text/x-python",
   "name": "python",
   "nbconvert_exporter": "python",
   "pygments_lexer": "ipython2",
   "version": "2.7.6"
  },
  "pycharm": {
   "stem_cell": {
    "cell_type": "raw",
    "source": [],
    "metadata": {
     "collapsed": false
    }
   }
  }
 },
 "nbformat": 4,
 "nbformat_minor": 0
}