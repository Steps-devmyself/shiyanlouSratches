﻿{
 "cells": [
  {
   "cell_type": "code",
   "execution_count": 29,
   "outputs": [],
   "source": [
    "from IPython.core.interactiveshell import InteractiveShell\n",
    "InteractiveShell.ast_node_interactivity='all'"
   ],
   "metadata": {
    "collapsed": false,
    "pycharm": {
     "name": "#%%\n",
     "is_executing": false
    }
   }
  },
  {
   "cell_type": "code",
   "execution_count": null,
   "metadata": {
    "collapsed": true,
    "pycharm": {
     "is_executing": true
    }
   },
   "outputs": [],
   "source": [
    "def collatz(number):\n",
    "    if number%2==0:\n",
    "        print(number//2)\n",
    "        return number//2\n",
    "    else:\n",
    "        print(3*number+1)\n",
    "        return 3*number+1\n",
    "    \n",
    "number=eval(input('please enter a number\\n'))\n",
    "while collatz(number)!=1:\n",
    "    number=collatz(number)"
   ]
  },
  {
   "cell_type": "code",
   "execution_count": null,
   "outputs": [],
   "source": [
    "class myList:\n",
    "    def __init__(self,mylist):\n",
    "        self.mylist=mylist\n",
    "    def __iter__(self):\n",
    "        return self\n",
    "    def __next__(self):\n",
    "        current=0\n",
    "        if current<len(self.mylist):\n",
    "            item=self.mylist[current]\n",
    "            current+=1\n",
    "            return item\n",
    "        else:\n",
    "            raise StopIteration"
   ],
   "metadata": {
    "collapsed": false,
    "pycharm": {
     "name": "#%%\n",
     "is_executing": true
    }
   }
  },
  {
   "cell_type": "code",
   "execution_count": null,
   "outputs": [],
   "source": [
    "m=myList([2,4,6,8,10])\n",
    "for i in m:\n",
    "    print(i)"
   ],
   "metadata": {
    "collapsed": false,
    "pycharm": {
     "name": "#%%\n",
     "is_executing": true
    }
   }
  },
  {
   "cell_type": "markdown",
   "source": [
    "这段代码会陷入死循环，原因是类的定义有错误\n",
    "遍历，是每一次执行相同的操作，for循环每一次都会去调用__iter__方法\n",
    "而__iter()__方法每次都会返回一个迭代器(它自己),它自己又去实现__next__()方法去取数据\n",
    "所有每次current都会被重置为1,所以输出都是22222"
   ],
   "metadata": {
    "collapsed": false,
    "pycharm": {
     "name": "#%% md\n"
    }
   }
  },
  {
   "cell_type": "code",
   "execution_count": null,
   "outputs": [],
   "source": [
    " # 解决，全局变量\n",
    "class myListU:\n",
    "    def __init__(self,mylist):\n",
    "        self.mylist=mylist\n",
    "        self.current=0\n",
    "    def __iter__(self):\n",
    "        return self\n",
    "    def __next__(self):\n",
    "        if self.current<len(self.mylist):\n",
    "            item=self.mylist[self.current]\n",
    "            self.current+=1\n",
    "            return item\n",
    "        else:\n",
    "            raise StopIteration"
   ],
   "metadata": {
    "collapsed": false,
    "pycharm": {
     "name": "#%%\n",
     "is_executing": true
    }
   }
  },
  {
   "cell_type": "code",
   "execution_count": null,
   "outputs": [],
   "source": [
    "mu=myListU([2,6,7,8,10])\n",
    "for i in mu:\n",
    "    print(i)"
   ],
   "metadata": {
    "collapsed": false,
    "pycharm": {
     "name": "#%%\n",
     "is_executing": true
    }
   }
  },
  {
   "cell_type": "code",
   "execution_count": null,
   "outputs": [],
   "source": [
    "next(mu)"
   ],
   "metadata": {
    "collapsed": false,
    "pycharm": {
     "name": "#%%\n",
     "is_executing": true
    }
   }
  },
  {
   "cell_type": "code",
   "execution_count": 1,
   "outputs": [
    {
     "name": "stdout",
     "text": [
      "hello\n"
     ],
     "output_type": "stream"
    }
   ],
   "source": [
    "print('hello')"
   ],
   "metadata": {
    "collapsed": false,
    "pycharm": {
     "name": "#%%\n",
     "is_executing": false
    }
   }
  },
  {
   "cell_type": "code",
   "execution_count": 3,
   "outputs": [],
   "source": [
    "#简便方法，不用实现__iter__和__next__方法\n",
    "#用生成器(generator函数，yield也就只有在函数种出现了）\n",
    "def myListG(mylist):\n",
    "    current=0\n",
    "    while current<len(mylist):\n",
    "        item=mylist[current]\n",
    "        current+=1\n",
    "        yield item\n",
    "    return 'all is done'"
   ],
   "metadata": {
    "collapsed": false,
    "pycharm": {
     "name": "#%%\n",
     "is_executing": false
    }
   }
  },
  {
   "cell_type": "code",
   "execution_count": 4,
   "outputs": [
    {
     "name": "stdout",
     "text": [
      "all is done\n"
     ],
     "output_type": "stream"
    }
   ],
   "source": [
    "#此时的return要用StopIteration来捕获\n",
    "mg=myListG([2,23,2,4,21,2,22])\n",
    "while True:\n",
    "    try:\n",
    "        next(mg)\n",
    "    except StopIteration as e:\n",
    "        print(e.value)\n",
    "        break"
   ],
   "metadata": {
    "collapsed": false,
    "pycharm": {
     "name": "#%%\n",
     "is_executing": false
    }
   }
  },
  {
   "cell_type": "code",
   "execution_count": 25,
   "outputs": [],
   "source": [
    "#再说yield,一般函数是遇到return返回\n",
    "#生成器函数是遇到yield就返回，并在当前位置停留\n",
    "def gen():\n",
    "    print('First')\n",
    "    yield 1\n",
    "    print('Second')\n",
    "    yield 2\n",
    "    print('Third')\n",
    "    yield 3"
   ],
   "metadata": {
    "collapsed": false,
    "pycharm": {
     "name": "#%%\n",
     "is_executing": false
    }
   }
  },
  {
   "cell_type": "code",
   "execution_count": 19,
   "outputs": [
    {
     "name": "stdout",
     "text": [
      "First\n"
     ],
     "output_type": "stream"
    },
    {
     "data": {
      "text/plain": "1"
     },
     "metadata": {},
     "output_type": "execute_result",
     "execution_count": 19
    }
   ],
   "source": [
    "#一定要新生成一个对象\n",
    "g=gen()\n",
    "next(g)"
   ],
   "metadata": {
    "collapsed": false,
    "pycharm": {
     "name": "#%%\n",
     "is_executing": false
    }
   }
  },
  {
   "cell_type": "code",
   "execution_count": 20,
   "outputs": [
    {
     "name": "stdout",
     "text": [
      "Second\n"
     ],
     "output_type": "stream"
    },
    {
     "data": {
      "text/plain": "2"
     },
     "metadata": {},
     "output_type": "execute_result",
     "execution_count": 20
    }
   ],
   "source": [
    "next(g)"
   ],
   "metadata": {
    "collapsed": false,
    "pycharm": {
     "name": "#%%\n",
     "is_executing": false
    }
   }
  },
  {
   "cell_type": "code",
   "execution_count": 21,
   "outputs": [
    {
     "name": "stdout",
     "text": [
      "Third\n"
     ],
     "output_type": "stream"
    },
    {
     "data": {
      "text/plain": "3"
     },
     "metadata": {},
     "output_type": "execute_result",
     "execution_count": 21
    }
   ],
   "source": [
    "next(g)"
   ],
   "metadata": {
    "collapsed": false,
    "pycharm": {
     "name": "#%%\n",
     "is_executing": false
    }
   }
  },
  {
   "cell_type": "code",
   "execution_count": 38,
   "outputs": [
    {
     "name": "stdout",
     "text": [
      "First\n",
      "Second\n2\nThird\n3\n"
     ],
     "output_type": "stream"
    },
    {
     "data": {
      "text/plain": "1"
     },
     "metadata": {},
     "output_type": "execute_result",
     "execution_count": 38
    }
   ],
   "source": [
    "#一点补充\n",
    "#调用迭代器除了用next方法，还有send()方法\n",
    "#会给迭代器传入一个值，并打印,\n",
    "#第一使用Send()传入的值一定为None\n",
    "f=gen()\n",
    "f.send(None)\n",
    "print(f.send('hi'))\n",
    "print(f.send('how'))"
   ],
   "metadata": {
    "collapsed": false,
    "pycharm": {
     "name": "#%%\n",
     "is_executing": false
    }
   }
  },
  {
   "cell_type": "code",
   "execution_count": 31,
   "outputs": [
    {
     "name": "stdout",
     "text": [
      "how are you\nok\n"
     ],
     "output_type": "stream"
    }
   ],
   "source": [
    "print('how are you')\n",
    "print('ok')"
   ],
   "metadata": {
    "collapsed": false,
    "pycharm": {
     "name": "#%%\n",
     "is_executing": false
    }
   }
  },
  {
   "cell_type": "code",
   "execution_count": 24,
   "outputs": [
    {
     "name": "stdout",
     "text": [
      "how are you\n\nI am ok\n\n"
     ],
     "output_type": "stream"
    }
   ],
   "source": [
    "def test():\n",
    "    print('how are you\\n')\n",
    "    print('I am ok\\n')\n",
    "test()"
   ],
   "metadata": {
    "collapsed": false,
    "pycharm": {
     "name": "#%%\n",
     "is_executing": false
    }
   }
  },
  {
   "cell_type": "code",
   "execution_count": null,
   "outputs": [],
   "source": [
    "import time\n",
    "n=[1,13,12,14,15]\n",
    "i=0\n",
    "while i<10:\n",
    "    try:\n",
    "        time.sleep(2)\n",
    "        print(n[i])\n",
    "        i+=1\n",
    "    except:\n",
    "        print('out of my range')\n",
    "    finally:\n",
    "        print('all is here')\n",
    "#finally不管前面什么情况都会执行"
   ],
   "metadata": {
    "collapsed": false,
    "pycharm": {
     "name": "#%%\n",
     "is_executing": true
    }
   }
  }
 ],
 "metadata": {
  "kernelspec": {
   "display_name": "Python 3",
   "language": "python",
   "name": "python3"
  },
  "language_info": {
   "codemirror_mode": {
    "name": "ipython",
    "version": 2
   },
   "file_extension": ".py",
   "mimetype": "text/x-python",
   "name": "python",
   "nbconvert_exporter": "python",
   "pygments_lexer": "ipython2",
   "version": "2.7.6"
  },
  "pycharm": {
   "stem_cell": {
    "cell_type": "raw",
    "source": [],
    "metadata": {
     "collapsed": false
    }
   }
  }
 },
 "nbformat": 4,
 "nbformat_minor": 0
}