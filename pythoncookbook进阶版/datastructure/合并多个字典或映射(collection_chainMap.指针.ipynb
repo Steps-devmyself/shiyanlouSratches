﻿{
 "cells": [
  {
   "cell_type": "code",
   "execution_count": 12,
   "metadata": {
    "collapsed": true,
    "pycharm": {
     "is_executing": false
    }
   },
   "outputs": [],
   "source": [
    "a={'x':1,'z':2}\n",
    "b={'y':3,'z':5}"
   ]
  },
  {
   "cell_type": "code",
   "execution_count": 4,
   "outputs": [
    {
     "name": "stdout",
     "text": [
      "1\n2\n3\n"
     ],
     "output_type": "stream"
    }
   ],
   "source": [
    "from collections import ChainMap\n",
    "c=ChainMap(a,b)\n",
    "print(c['x'])\n",
    "print(c['z'])\n",
    "print(c['y'])\n",
    "# chainmap可以看作是一个指针？将两个字典连接起来了。\n",
    "# 并且有重构方法，实现字典的方法\n",
    "# 对chainmap对象的操作总是作用在第一个字典上"
   ],
   "metadata": {
    "collapsed": false,
    "pycharm": {
     "name": "#%%\n",
     "is_executing": false
    }
   }
  },
  {
   "cell_type": "code",
   "execution_count": 11,
   "outputs": [
    {
     "name": "stdout",
     "text": [
      "{'y': 3, 'z': 5}\n{'y': 3, 'z': 5, 'x': 1}\n"
     ],
     "output_type": "stream"
    }
   ],
   "source": [
    "dictmerge=dict(b)\n",
    "print(dictmerge)\n",
    "dictmerge.update(a)\n",
    "print(dictmerge)"
   ],
   "metadata": {
    "collapsed": false,
    "pycharm": {
     "name": "#%%\n",
     "is_executing": false
    }
   }
  },
  {
   "cell_type": "code",
   "execution_count": 21,
   "outputs": [
    {
     "data": {
      "text/plain": "4"
     },
     "metadata": {},
     "output_type": "execute_result",
     "execution_count": 21
    }
   ],
   "source": [
    "a.update(b)\n",
    "a['x']=4\n",
    "a['x']"
   ],
   "metadata": {
    "collapsed": false,
    "pycharm": {
     "name": "#%%\n",
     "is_executing": false
    }
   }
  }
 ],
 "metadata": {
  "kernelspec": {
   "display_name": "Python 3",
   "language": "python",
   "name": "python3"
  },
  "language_info": {
   "codemirror_mode": {
    "name": "ipython",
    "version": 2
   },
   "file_extension": ".py",
   "mimetype": "text/x-python",
   "name": "python",
   "nbconvert_exporter": "python",
   "pygments_lexer": "ipython2",
   "version": "2.7.6"
  },
  "pycharm": {
   "stem_cell": {
    "cell_type": "raw",
    "source": [],
    "metadata": {
     "collapsed": false
    }
   }
  }
 },
 "nbformat": 4,
 "nbformat_minor": 0
}