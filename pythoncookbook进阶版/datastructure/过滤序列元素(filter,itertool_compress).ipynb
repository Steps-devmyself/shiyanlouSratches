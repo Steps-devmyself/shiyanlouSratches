﻿{
 "cells": [
  {
   "cell_type": "code",
   "execution_count": 7,
   "metadata": {
    "collapsed": true,
    "pycharm": {
     "is_executing": false
    }
   },
   "outputs": [],
   "source": [
    "#对于字典，用字典推导式，明确，高效\n",
    "#列表推导式\n",
    "ls=[1,4,-5,3,5,-3,2,-1]\n",
    "lsn=[x for x in ls if x>0]\n",
    "#三元表达式，可以将不符合条件的数替换成指定的数\n",
    "lsm=[x if x>0 else 0 for x in ls]"
   ]
  },
  {
   "cell_type": "code",
   "execution_count": 4,
   "outputs": [
    {
     "name": "stdout",
     "text": [
      "-3\n-1\n"
     ],
     "output_type": "stream"
    }
   ],
   "source": [
    "# 对内存敏感时，用生成器，迭代产生过滤元素\n",
    "# 生成器时C里面的指针？\n",
    "lsp=(x for x in ls if x<0)\n",
    "next(lsp)\n",
    "for i in lsp:\n",
    "    print(i)"
   ],
   "metadata": {
    "collapsed": false,
    "pycharm": {
     "name": "#%%\n",
     "is_executing": false
    }
   }
  },
  {
   "cell_type": "markdown",
   "source": [
    "filter 和 compress的实现方法类似，\n",
    "创建一个boolean序列，指示哪些元素符合条件\n",
    "然后根据这个序列去选择输出对应位置为True的元素\n",
    "区别在于：filter接受一个返回TrueOrFalse的函数，compress接受一个可迭代序列,在这个序列里面只有不是0的地方都输出"
   ],
   "metadata": {
    "collapsed": false,
    "pycharm": {
     "name": "#%% md\n",
     "is_executing": false
    }
   }
  },
  {
   "cell_type": "code",
   "execution_count": 8,
   "outputs": [],
   "source": [
    "#当过滤规则很复杂时，可将过滤规则打包成函数\n",
    "# 使用内建的filter实现，filer返回的是一个迭代器\n",
    "values = ['1', '2', '-3', '-', '4', 'N/A', '5']\n",
    "# 目的，将values过滤只输出数字\n",
    "def is_int(val):\n",
    "    try:\n",
    "        if int(val)>2:\n",
    "            return 1\n",
    "    except:\n",
    "        return 0\n",
    "ivals=list(filter(is_int,values))"
   ],
   "metadata": {
    "collapsed": false,
    "pycharm": {
     "name": "#%%\n",
     "is_executing": false
    }
   }
  },
  {
   "cell_type": "code",
   "execution_count": 12,
   "outputs": [],
   "source": [
    "from itertools import compress\n",
    "for_compress=(0,0,0,0,3,3,3)\n",
    "lsc=list(compress(values,for_compress))\n",
    "        "
   ],
   "metadata": {
    "collapsed": false,
    "pycharm": {
     "name": "#%%\n",
     "is_executing": false
    }
   }
  },
  {
   "cell_type": "code",
   "execution_count": 21,
   "outputs": [],
   "source": [
    "# 字典推导式\n",
    "prices = {\n",
    "    'ACME': 45.23,\n",
    "    'AAPL': 612.78,\n",
    "    'IBM': 205.55,\n",
    "    'HPQ': 37.20,\n",
    "    'FB': 10.75\n",
    "}"
   ],
   "metadata": {
    "collapsed": false,
    "pycharm": {
     "name": "#%%\n",
     "is_executing": false
    }
   }
  },
  {
   "cell_type": "code",
   "execution_count": 26,
   "outputs": [
    {
     "name": "stdout",
     "text": [
      "ACME 45.23\nAAPL 612.78\nIBM 205.55\nHPQ 37.2\nFB 10.75\nACME\nAAPL\nIBM\nHPQ\nFB\nACME\nAAPL\nIBM\nHPQ\nFB\n45.23\n612.78\n205.55\n37.2\n10.75\n"
     ],
     "output_type": "stream"
    }
   ],
   "source": [
    "for key,values in prices.items():\n",
    "    print(key,values)\n",
    "for key in prices.keys():\n",
    "    print(key)\n",
    "for key in prices:\n",
    "    print(key)\n",
    "for values in prices.values():\n",
    "    print(values)"
   ],
   "metadata": {
    "collapsed": false,
    "pycharm": {
     "name": "#%%\n",
     "is_executing": false
    }
   }
  },
  {
   "cell_type": "code",
   "execution_count": 17,
   "outputs": [],
   "source": [
    "p50={key:value for key,value in prices.items() if value>50}"
   ],
   "metadata": {
    "collapsed": false,
    "pycharm": {
     "name": "#%%\n",
     "is_executing": false
    }
   }
  },
  {
   "cell_type": "code",
   "execution_count": 30,
   "outputs": [],
   "source": [
    "# 综合应用\n",
    "rows = [\n",
    "    {'address': '5412 N CLARK', 'date': '07/01/2012'},\n",
    "    {'address': '5148 N CLARK', 'date': '07/04/2012'},\n",
    "    {'address': '5800 E 58TH', 'date': '07/02/2012'},\n",
    "    {'address': '2122 N CLARK', 'date': '07/03/2012'},\n",
    "    {'address': '5645 N RAVENSWOOD', 'date': '07/02/2012'},\n",
    "    {'address': '1060 W ADDISON', 'date': '07/02/2012'},\n",
    "    {'address': '4801 N BROADWAY', 'date': '07/01/2012'},\n",
    "    {'address': '1039 W GRANVILLE', 'date': '07/04/2012'},\n",
    "]\n",
    "#过滤掉address大于5000的元素\n",
    "rowsout=[x for x in rows if int(x['address'][0:4])<5000]"
   ],
   "metadata": {
    "collapsed": false,
    "pycharm": {
     "name": "#%%\n",
     "is_executing": false
    }
   }
  },
  {
   "cell_type": "code",
   "execution_count": 34,
   "outputs": [
    {
     "data": {
      "text/plain": "{'x', 'y', 'z'}"
     },
     "metadata": {},
     "output_type": "execute_result",
     "execution_count": 34
    }
   ],
   "source": [
    "a = {'x': 1, 'z': 3 }\n",
    "b = {'y': 2, 'z': 4 }\n",
    "a.keys() - b.keys()\n",
    "b.keys() - a.keys()\n",
    "a.keys() & b.keys()\n",
    "a.keys() | b.keys()"
   ],
   "metadata": {
    "collapsed": false,
    "pycharm": {
     "name": "#%%\n",
     "is_executing": false
    }
   }
  }
 ],
 "metadata": {
  "kernelspec": {
   "display_name": "Python 3",
   "language": "python",
   "name": "python3"
  },
  "language_info": {
   "codemirror_mode": {
    "name": "ipython",
    "version": 2
   },
   "file_extension": ".py",
   "mimetype": "text/x-python",
   "name": "python",
   "nbconvert_exporter": "python",
   "pygments_lexer": "ipython2",
   "version": "2.7.6"
  },
  "pycharm": {
   "stem_cell": {
    "cell_type": "raw",
    "source": [],
    "metadata": {
     "collapsed": false
    }
   }
  }
 },
 "nbformat": 4,
 "nbformat_minor": 0
}