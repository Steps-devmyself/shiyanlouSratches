﻿{
 "cells": [
  {
   "cell_type": "code",
   "execution_count": 1,
   "metadata": {
    "collapsed": true,
    "pycharm": {
     "is_executing": false
    }
   },
   "outputs": [],
   "source": [
    "from collections import  namedtuple\n",
    "# 实例化一个叫做Subcriber,有addr,joined属性的类\n",
    "Subscriber=namedtuple('Subscriber',['addr','joined'])\n",
    "# 初始化\n",
    "sub=Subscriber(1,2)"
   ]
  },
  {
   "cell_type": "code",
   "execution_count": 3,
   "outputs": [
    {
     "data": {
      "text/plain": "2"
     },
     "metadata": {},
     "output_type": "execute_result",
     "execution_count": 3
    }
   ],
   "source": [
    "sub.addr\n",
    "sub.joined"
   ],
   "metadata": {
    "collapsed": false,
    "pycharm": {
     "name": "#%%\n",
     "is_executing": false
    }
   }
  },
  {
   "cell_type": "code",
   "execution_count": 11,
   "outputs": [
    {
     "name": "stdout",
     "text": [
      "1 2 3\n6\n4 5 6\n30\n"
     ],
     "output_type": "stream"
    }
   ],
   "source": [
    "# 支持所有的普通元组操作\n",
    "len(sub)\n",
    "a,b=sub\n",
    "a\n",
    "b\n",
    "records=[[1,2,3],[4,5,6]]\n",
    "Stock=namedtuple('Stock',['name','shares','price'])\n",
    "for rec in records:\n",
    "    print(*rec)\n",
    "    s=Stock(*rec)\n",
    "    print(s.price*s.shares)"
   ],
   "metadata": {
    "collapsed": false,
    "pycharm": {
     "name": "#%%\n",
     "is_executing": false
    }
   }
  },
  {
   "cell_type": "code",
   "execution_count": 13,
   "outputs": [],
   "source": [
    "#当作字典的替代，但是属性值更改不能直接赋值，而是要\n",
    "#调用方法，会创建一个全新的命名元组并将对应的字段用新的值替代,即不是inplace\n",
    "s1=s._replace(name=45)\n",
    "s1"
   ],
   "metadata": {
    "collapsed": false,
    "pycharm": {
     "name": "#%%\n",
     "is_executing": false
    }
   }
  },
  {
   "cell_type": "code",
   "execution_count": 19,
   "outputs": [
    {
     "name": "stdout",
     "text": [
      "Stock(name='jone', share=10, price=23)\n"
     ],
     "output_type": "stream"
    }
   ],
   "source": [
    "#应用，先创建一个原型，然后_replace方法更新\n",
    "Stock=namedtuple('Stock',['name','share','price'])\n",
    "stock_template=Stock('',None,None)\n",
    "def dict_to_stock(ww):\n",
    "    return stock_template._replace(**ww)\n",
    "d1={'name':'jone','share':10,'price':23}\n",
    "o1=dict_to_stock(d1)\n",
    "print(o1)"
   ],
   "metadata": {
    "collapsed": false,
    "pycharm": {
     "name": "#%%\n",
     "is_executing": false
    }
   }
  }
 ],
 "metadata": {
  "kernelspec": {
   "display_name": "Python 3",
   "language": "python",
   "name": "python3"
  },
  "language_info": {
   "codemirror_mode": {
    "name": "ipython",
    "version": 2
   },
   "file_extension": ".py",
   "mimetype": "text/x-python",
   "name": "python",
   "nbconvert_exporter": "python",
   "pygments_lexer": "ipython2",
   "version": "2.7.6"
  },
  "pycharm": {
   "stem_cell": {
    "cell_type": "raw",
    "source": [],
    "metadata": {
     "collapsed": false
    }
   }
  }
 },
 "nbformat": 4,
 "nbformat_minor": 0
}