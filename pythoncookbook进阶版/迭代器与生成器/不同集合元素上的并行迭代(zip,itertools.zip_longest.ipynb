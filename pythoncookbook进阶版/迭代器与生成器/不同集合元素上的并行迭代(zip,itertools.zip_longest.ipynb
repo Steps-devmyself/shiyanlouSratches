﻿{
 "cells": [
  {
   "cell_type": "code",
   "execution_count": 9,
   "metadata": {
    "collapsed": true,
    "pycharm": {
     "is_executing": false
    }
   },
   "outputs": [],
   "source": [
    "from itertools  import zip_longest\n",
    "\n",
    "a=[1,2,3]\n",
    "b=['x','x']\n",
    "c=(1,2,3,4)\n",
    "s='hello'"
   ]
  },
  {
   "cell_type": "code",
   "execution_count": 3,
   "outputs": [
    {
     "name": "stdout",
     "text": [
      "(1, 'x')\n(2, 'x')\n"
     ],
     "output_type": "stream"
    }
   ],
   "source": [
    "for i in zip(a,b):\n",
    "    print(i)"
   ],
   "metadata": {
    "collapsed": false,
    "pycharm": {
     "name": "#%%\n",
     "is_executing": false
    }
   }
  },
  {
   "cell_type": "code",
   "execution_count": 12,
   "outputs": [
    {
     "name": "stdout",
     "text": [
      "(1, 'x', 1, 'h')\n(2, 'x', 2, 'e')\n(3, 'nd', 3, 'l')\n('nd', 'nd', 4, 'l')\n('nd', 'nd', 'nd', 'o')\n"
     ],
     "output_type": "stream"
    }
   ],
   "source": [
    "for i in zip_longest(a,b,c,s,fillvalue='nd'):\n",
    "    print(i)"
   ],
   "metadata": {
    "collapsed": false,
    "pycharm": {
     "name": "#%%\n",
     "is_executing": false
    }
   }
  },
  {
   "cell_type": "code",
   "execution_count": null,
   "outputs": [],
   "source": [],
   "metadata": {
    "collapsed": false,
    "pycharm": {
     "name": "#%%"
    }
   }
  }
 ],
 "metadata": {
  "kernelspec": {
   "display_name": "Python 3",
   "language": "python",
   "name": "python3"
  },
  "language_info": {
   "codemirror_mode": {
    "name": "ipython",
    "version": 2
   },
   "file_extension": ".py",
   "mimetype": "text/x-python",
   "name": "python",
   "nbconvert_exporter": "python",
   "pygments_lexer": "ipython2",
   "version": "2.7.6"
  },
  "pycharm": {
   "stem_cell": {
    "cell_type": "raw",
    "source": [],
    "metadata": {
     "collapsed": false
    }
   }
  }
 },
 "nbformat": 4,
 "nbformat_minor": 0
}