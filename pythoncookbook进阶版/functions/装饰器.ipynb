{
 "cells": [
  {
   "cell_type": "code",
   "execution_count": null,
   "metadata": {},
   "outputs": [],
   "source": [
    "#语法糖怎么传的参数，还需要好好看一看"
   ]
  },
  {
   "cell_type": "code",
   "execution_count": 1,
   "metadata": {},
   "outputs": [],
   "source": [
    "#不改变原有代码结构的基础上，新增功能"
   ]
  },
  {
   "cell_type": "code",
   "execution_count": 37,
   "metadata": {},
   "outputs": [],
   "source": [
    "def myfun1():\n",
    "    print('I am function1')"
   ]
  },
  {
   "cell_type": "code",
   "execution_count": 74,
   "metadata": {},
   "outputs": [],
   "source": [
    "def myfun2(*a):\n",
    "    print('I am funciton2')\n",
    "    print(a)"
   ]
  },
  {
   "cell_type": "code",
   "execution_count": 42,
   "metadata": {},
   "outputs": [],
   "source": [
    "def myfun3(*a):\n",
    "    print(sum(a))"
   ]
  },
  {
   "cell_type": "code",
   "execution_count": 39,
   "metadata": {},
   "outputs": [],
   "source": [
    "def newde(func):\n",
    "    print('This is from newde')\n",
    "    return func"
   ]
  },
  {
   "cell_type": "code",
   "execution_count": 6,
   "metadata": {},
   "outputs": [
    {
     "name": "stdout",
     "output_type": "stream",
     "text": [
      "This is from newde\n",
      "I am function1\n"
     ]
    }
   ],
   "source": [
    "newde(myfun1)()"
   ]
  },
  {
   "cell_type": "code",
   "execution_count": 40,
   "metadata": {},
   "outputs": [],
   "source": [
    "def newde(func,text):\n",
    "    print('This is from newde')\n",
    "    print(text)\n",
    "    return func"
   ]
  },
  {
   "cell_type": "code",
   "execution_count": null,
   "metadata": {},
   "outputs": [],
   "source": []
  },
  {
   "cell_type": "code",
   "execution_count": 41,
   "metadata": {
    "scrolled": true
   },
   "outputs": [
    {
     "name": "stdout",
     "output_type": "stream",
     "text": [
      "This is from newde\n",
      "text\n",
      "I am function1\n"
     ]
    }
   ],
   "source": [
    "newde(myfun1,'text')()"
   ]
  },
  {
   "cell_type": "code",
   "execution_count": 44,
   "metadata": {},
   "outputs": [
    {
     "name": "stdout",
     "output_type": "stream",
     "text": [
      "This is from newde\n",
      "text\n",
      "37\n"
     ]
    }
   ],
   "source": [
    "newde(myfun3,'text')(1,2,34)"
   ]
  },
  {
   "cell_type": "code",
   "execution_count": null,
   "metadata": {},
   "outputs": [],
   "source": []
  },
  {
   "cell_type": "code",
   "execution_count": 7,
   "metadata": {},
   "outputs": [],
   "source": [
    "#语法糖，便捷的写法，定义的时候并不简洁，但用起来更简洁"
   ]
  },
  {
   "cell_type": "code",
   "execution_count": null,
   "metadata": {},
   "outputs": [],
   "source": [
    "#语法糖只能接收1个或者0个参数"
   ]
  },
  {
   "cell_type": "code",
   "execution_count": 72,
   "metadata": {},
   "outputs": [],
   "source": [
    "def outerflaw(func,texttest):\n",
    "    def inner(*args,**kwargs):\n",
    "        print('这里执行func本身的功能')\n",
    "        print('在inner里面执行函数本身的功能？')\n",
    "        print('以及附加的功能')\n",
    "        print(texttest)\n",
    "        return func(*args,**kwargs)\n",
    "    return inner"
   ]
  },
  {
   "cell_type": "code",
   "execution_count": 75,
   "metadata": {},
   "outputs": [
    {
     "name": "stdout",
     "output_type": "stream",
     "text": [
      "这里执行func本身的功能\n",
      "在inner里面执行函数本身的功能？\n",
      "以及附加的功能\n",
      "texy\n",
      "I am funciton2\n",
      "(<function myfun3 at 0x000001A2B970EA60>,)\n"
     ]
    }
   ],
   "source": [
    "@outerflaw(myfun2,'texy')\n",
    "def myfun3(*a):\n",
    "    print(sum(a))"
   ]
  },
  {
   "cell_type": "code",
   "execution_count": 76,
   "metadata": {},
   "outputs": [
    {
     "ename": "TypeError",
     "evalue": "'NoneType' object is not callable",
     "output_type": "error",
     "traceback": [
      "\u001b[1;31m---------------------------------------------------------------------------\u001b[0m",
      "\u001b[1;31mTypeError\u001b[0m                                 Traceback (most recent call last)",
      "\u001b[1;32m<ipython-input-76-0014154bc457>\u001b[0m in \u001b[0;36m<module>\u001b[1;34m\u001b[0m\n\u001b[1;32m----> 1\u001b[1;33m \u001b[0mmyfun3\u001b[0m\u001b[1;33m(\u001b[0m\u001b[1;36m1\u001b[0m\u001b[1;33m,\u001b[0m\u001b[1;36m2\u001b[0m\u001b[1;33m,\u001b[0m\u001b[1;36m3\u001b[0m\u001b[1;33m)\u001b[0m\u001b[1;33m\u001b[0m\u001b[1;33m\u001b[0m\u001b[0m\n\u001b[0m",
      "\u001b[1;31mTypeError\u001b[0m: 'NoneType' object is not callable"
     ]
    }
   ],
   "source": []
  },
  {
   "cell_type": "code",
   "execution_count": null,
   "metadata": {},
   "outputs": [],
   "source": [
    "#疑问，text是哪儿来的？内存里面随机读的，还是打印的是传入参数名"
   ]
  },
  {
   "cell_type": "code",
   "execution_count": 63,
   "metadata": {},
   "outputs": [],
   "source": [
    "#把我的自定义函数都给复写了？？？"
   ]
  },
  {
   "cell_type": "code",
   "execution_count": 66,
   "metadata": {},
   "outputs": [
    {
     "name": "stdout",
     "output_type": "stream",
     "text": [
      "这里执行func本身的功能\n",
      "在inner里面执行函数本身的功能？\n",
      "以及附加的功能\n",
      "text\n",
      "I am funciton2\n"
     ]
    }
   ],
   "source": [
    "a=myfun2()"
   ]
  },
  {
   "cell_type": "code",
   "execution_count": 68,
   "metadata": {},
   "outputs": [
    {
     "data": {
      "text/plain": [
       "NoneType"
      ]
     },
     "execution_count": 68,
     "metadata": {},
     "output_type": "execute_result"
    }
   ],
   "source": [
    "type(a)"
   ]
  },
  {
   "cell_type": "code",
   "execution_count": 62,
   "metadata": {},
   "outputs": [
    {
     "data": {
      "text/plain": [
       "NoneType"
      ]
     },
     "execution_count": 62,
     "metadata": {},
     "output_type": "execute_result"
    }
   ],
   "source": [
    "type(myfun3)"
   ]
  },
  {
   "cell_type": "code",
   "execution_count": 65,
   "metadata": {},
   "outputs": [],
   "source": [
    "#语法糖，是相当于把传入的方法重写了\n",
    "#myfuntion=newde(myfun1)"
   ]
  },
  {
   "cell_type": "code",
   "execution_count": null,
   "metadata": {},
   "outputs": [],
   "source": []
  },
  {
   "cell_type": "code",
   "execution_count": 55,
   "metadata": {},
   "outputs": [],
   "source": [
    "def outer(func):\n",
    "    def inner(*args,**kwargs):\n",
    "        print('这里执行func本身的功能')\n",
    "        print('在inner里面执行函数本身的功能？')\n",
    "        print('以及附加的功能')\n",
    "        return func(*args,**kwargs)\n",
    "    return inner"
   ]
  },
  {
   "cell_type": "code",
   "execution_count": 56,
   "metadata": {},
   "outputs": [],
   "source": [
    "@outer\n",
    "def myfun3(*a):\n",
    "    print(sum(a))"
   ]
  },
  {
   "cell_type": "code",
   "execution_count": 57,
   "metadata": {},
   "outputs": [
    {
     "name": "stdout",
     "output_type": "stream",
     "text": [
      "这里执行func本身的功能\n",
      "在inner里面执行函数本身的功能？\n",
      "以及附加的功能\n",
      "10\n"
     ]
    }
   ],
   "source": [
    "myfun3(1,2,3,4)"
   ]
  },
  {
   "cell_type": "code",
   "execution_count": 27,
   "metadata": {},
   "outputs": [],
   "source": [
    "#当装饰器需要传递参数的时候\n",
    "#TODO"
   ]
  },
  {
   "cell_type": "code",
   "execution_count": 34,
   "metadata": {},
   "outputs": [],
   "source": [
    "def log(text):\n",
    "    print('this is from log',text)\n",
    "    def outer(func):\n",
    "        print('this is from outer',text)\n",
    "        def inner(*args,**kwargs):\n",
    "            print('这里执行func本身的功能')\n",
    "            print('在inner里面执行函数本身的功能？')\n",
    "            print('以及附加的功能')\n",
    "            print(text)\n",
    "            return func()\n",
    "        return inner\n",
    "    return outer\n",
    "\n",
    "        "
   ]
  },
  {
   "cell_type": "code",
   "execution_count": 35,
   "metadata": {},
   "outputs": [
    {
     "name": "stdout",
     "output_type": "stream",
     "text": [
      "this is from log text\n",
      "this is from outer text\n"
     ]
    }
   ],
   "source": [
    "@log('text')\n",
    "def myfun2():\n",
    "    print('I am funciton2')"
   ]
  },
  {
   "cell_type": "code",
   "execution_count": 36,
   "metadata": {},
   "outputs": [
    {
     "name": "stdout",
     "output_type": "stream",
     "text": [
      "这里执行func本身的功能\n",
      "在inner里面执行函数本身的功能？\n",
      "以及附加的功能\n",
      "text\n",
      "I am funciton2\n"
     ]
    }
   ],
   "source": [
    "myfun2()"
   ]
  },
  {
   "cell_type": "code",
   "execution_count": null,
   "metadata": {},
   "outputs": [],
   "source": []
  }
 ],
 "metadata": {
  "kernelspec": {
   "display_name": "Python 3",
   "language": "python",
   "name": "python3"
  },
  "language_info": {
   "codemirror_mode": {
    "name": "ipython",
    "version": 3
   },
   "file_extension": ".py",
   "mimetype": "text/x-python",
   "name": "python",
   "nbconvert_exporter": "python",
   "pygments_lexer": "ipython3",
   "version": "3.7.1"
  }
 },
 "nbformat": 4,
 "nbformat_minor": 2
}
