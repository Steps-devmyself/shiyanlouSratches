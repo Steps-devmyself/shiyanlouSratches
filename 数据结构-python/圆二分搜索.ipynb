{
 "cells": [
  {
   "cell_type": "code",
   "execution_count": 70,
   "metadata": {},
   "outputs": [],
   "source": [
    "#圆型数据存储，环状数据，用求余填充的技巧\n",
    "#分情况讨论(if-else)，分支错了，结果可能就是错的"
   ]
  },
  {
   "cell_type": "code",
   "execution_count": 2,
   "metadata": {},
   "outputs": [],
   "source": [
    "import random as rd"
   ]
  },
  {
   "cell_type": "code",
   "execution_count": 18,
   "metadata": {},
   "outputs": [],
   "source": [
    "def SaveData(data):\n",
    "    length=len(data)\n",
    "    start=rd.randint(0,length-1)\n",
    "    circle=length*[0]\n",
    "    for i in data:\n",
    "        circle[start]=i\n",
    "        start=(start+1)%length #环状数据,求余填充的技巧\n",
    "    return circle"
   ]
  },
  {
   "cell_type": "code",
   "execution_count": 40,
   "metadata": {},
   "outputs": [],
   "source": [
    "def SearchMin(data):\n",
    "    length=len(data)\n",
    "    start=0\n",
    "    end=length-1\n",
    "    count=0\n",
    "    while start!=end:\n",
    "        mid=(start+end)//2%length\n",
    "        print('round {}:start:{},mid:{},end:{}'.format(count,start,mid,end))\n",
    "        if start==mid:\n",
    "            if data[mid]>data[end]:\n",
    "                return end\n",
    "            else:\n",
    "                return mid\n",
    "        if end==mid:\n",
    "            if data[mid]>data[start]:\n",
    "                return start\n",
    "            else:\n",
    "                return mid\n",
    "        # 定位\n",
    "        if data[start]<data[mid]:\n",
    "            if data[mid]<data[end]:\n",
    "                end=mid\n",
    "            elif data[start]<data[end]:\n",
    "                start=mid\n",
    "        elif data[mid]>data[end]:\n",
    "            start=mid\n",
    "        elif data[start]<data[end]:\n",
    "            start=mid\n",
    "        else:\n",
    "            end=mid\n",
    "        count+=1\n",
    "        if count>length:\n",
    "            break\n",
    "    return mid\n",
    "                \n",
    "        "
   ]
  },
  {
   "cell_type": "code",
   "execution_count": 64,
   "metadata": {},
   "outputs": [],
   "source": [
    "ls=[x for x in range(1,10,2)]"
   ]
  },
  {
   "cell_type": "code",
   "execution_count": 65,
   "metadata": {},
   "outputs": [],
   "source": [
    "new=SaveData(ls)"
   ]
  },
  {
   "cell_type": "code",
   "execution_count": 66,
   "metadata": {},
   "outputs": [
    {
     "data": {
      "text/plain": [
       "[9, 1, 3, 5, 7]"
      ]
     },
     "execution_count": 66,
     "metadata": {},
     "output_type": "execute_result"
    }
   ],
   "source": [
    "new\n"
   ]
  },
  {
   "cell_type": "code",
   "execution_count": 67,
   "metadata": {},
   "outputs": [
    {
     "name": "stdout",
     "output_type": "stream",
     "text": [
      "round 0:start:0,mid:2,end:4\n",
      "round 1:start:0,mid:1,end:2\n",
      "round 2:start:0,mid:0,end:1\n"
     ]
    }
   ],
   "source": [
    "minpos=SearchMin(new)"
   ]
  },
  {
   "cell_type": "code",
   "execution_count": 68,
   "metadata": {},
   "outputs": [
    {
     "data": {
      "text/plain": [
       "1"
      ]
     },
     "execution_count": 68,
     "metadata": {},
     "output_type": "execute_result"
    }
   ],
   "source": [
    "minpos"
   ]
  },
  {
   "cell_type": "code",
   "execution_count": 69,
   "metadata": {},
   "outputs": [
    {
     "data": {
      "text/plain": [
       "1"
      ]
     },
     "execution_count": 69,
     "metadata": {},
     "output_type": "execute_result"
    }
   ],
   "source": [
    "new[minpos]"
   ]
  }
 ],
 "metadata": {
  "kernelspec": {
   "display_name": "Python 3",
   "language": "python",
   "name": "python3"
  },
  "language_info": {
   "codemirror_mode": {
    "name": "ipython",
    "version": 3
   },
   "file_extension": ".py",
   "mimetype": "text/x-python",
   "name": "python",
   "nbconvert_exporter": "python",
   "pygments_lexer": "ipython3",
   "version": "3.7.1"
  }
 },
 "nbformat": 4,
 "nbformat_minor": 2
}
